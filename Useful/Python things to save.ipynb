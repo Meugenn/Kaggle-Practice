{
 "cells": [
  {
   "cell_type": "markdown",
   "id": "5d2e5f0a",
   "metadata": {},
   "source": [
    "Sampling"
   ]
  },
  {
   "cell_type": "code",
   "execution_count": null,
   "id": "7e644237",
   "metadata": {},
   "outputs": [],
   "source": [
    "from sklearn.model_selection import train_test_split, cross_val_score\n",
    "\n",
    "y = train[\"Survived\"]\n",
    "X = train.drop([\"Survived\", \"PassengerId\"], axis=1)\n",
    "\n",
    "X_train, X_test, y_train, y_test = train_test_split(X, y, random_state=1)"
   ]
  },
  {
   "cell_type": "markdown",
   "id": "b24680c3",
   "metadata": {},
   "source": [
    "# Pandas"
   ]
  },
  {
   "cell_type": "code",
   "execution_count": null,
   "id": "75a064b6",
   "metadata": {},
   "outputs": [],
   "source": [
    "# new_series = np.where(df['column_name'] == 0, 1, 0)\n",
    "new_series = (df['your_column'] == 0).astype(int)\n",
    "predict_by_sex = {share_survived(\"Sex\", sex, X_train) >= 0.5 for sex in X_train[\"Sex\"].unique()}\n",
    "df_with_dummies = pd.get_dummies(df, columns=['B'])"
   ]
  },
  {
   "cell_type": "markdown",
   "id": "b4624808",
   "metadata": {},
   "source": [
    "# Scikit-learn"
   ]
  },
  {
   "cell_type": "code",
   "execution_count": null,
   "id": "a4b3c9ce",
   "metadata": {},
   "outputs": [],
   "source": [
    "from sklearn.linear_model import LogisticRegression\n",
    "from sklearn.metrics import classification_report, confusion_matrix"
   ]
  },
  {
   "cell_type": "code",
   "execution_count": null,
   "id": "7b51fb03",
   "metadata": {},
   "outputs": [],
   "source": [
    "model = LogisticRegression()\n",
    "model.fit(X_train, y_train)"
   ]
  },
  {
   "cell_type": "markdown",
   "id": "c2ebc327",
   "metadata": {},
   "source": [
    "**Confusion matrix** - model's performance in terms of false positives, false negatives, true positives, and true negatives"
   ]
  },
  {
   "cell_type": "code",
   "execution_count": null,
   "id": "de175fee",
   "metadata": {},
   "outputs": [],
   "source": []
  }
 ],
 "metadata": {
  "kernelspec": {
   "display_name": "Python 3 (ipykernel)",
   "language": "python",
   "name": "python3"
  },
  "language_info": {
   "codemirror_mode": {
    "name": "ipython",
    "version": 3
   },
   "file_extension": ".py",
   "mimetype": "text/x-python",
   "name": "python",
   "nbconvert_exporter": "python",
   "pygments_lexer": "ipython3",
   "version": "3.9.13"
  }
 },
 "nbformat": 4,
 "nbformat_minor": 5
}
