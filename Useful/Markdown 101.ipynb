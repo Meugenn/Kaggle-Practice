{
 "cells": [
  {
   "cell_type": "markdown",
   "id": "0436c4d9",
   "metadata": {},
   "source": [
    "# Markdown Guide\n",
    "\n",
    "Markdown is a lightweight markup language with plain-text formatting syntax. Here's a brief guide on how to use it:\n",
    "\n",
    "## Headers\n",
    "\n",
    "Create headers by prefacing words with the pound/hash symbol (`#`). The number of `#` symbols before the text determines the level of the header.\n",
    "\n",
    "```markdown\n",
    "# Header 1\n",
    "## Header 2\n",
    "### Header 3\n",
    "#### Header 4\n",
    "##### Header 5\n",
    "###### Header 6\n"
   ]
  },
  {
   "cell_type": "markdown",
   "id": "0c591d2e",
   "metadata": {},
   "source": [
    "Emphasis\n",
    "You can emphasize text with bold or italic formatting.\n",
    "\n",
    "markdown\n",
    "Copy code\n",
    "*italic* or _italic_\n",
    "**bold** or __bold__\n",
    "**_both_**\n",
    "~~strikethrough~~\n"
   ]
  },
  {
   "cell_type": "markdown",
   "id": "90608b5c",
   "metadata": {},
   "source": [
    "# Lists\n",
    "## Unordered\n",
    "- Item 1\n",
    "- Item 2\n",
    "  - Sub Item 2.1\n",
    "  - Sub Item 2.2\n",
    "## Ordered\n",
    "1. Item 1\n",
    "2. Item 2\n",
    "# Links\n",
    "[OpenAI](https://www.openai.com)\n",
    "# Images\n",
    "![Alt text](url_to_image.jpg)\n"
   ]
  },
  {
   "cell_type": "code",
   "execution_count": null,
   "id": "1b4a7e00",
   "metadata": {},
   "outputs": [],
   "source": []
  },
  {
   "cell_type": "code",
   "execution_count": null,
   "id": "8fdd14cf",
   "metadata": {},
   "outputs": [],
   "source": []
  }
 ],
 "metadata": {
  "kernelspec": {
   "display_name": "Python 3 (ipykernel)",
   "language": "python",
   "name": "python3"
  },
  "language_info": {
   "codemirror_mode": {
    "name": "ipython",
    "version": 3
   },
   "file_extension": ".py",
   "mimetype": "text/x-python",
   "name": "python",
   "nbconvert_exporter": "python",
   "pygments_lexer": "ipython3",
   "version": "3.9.13"
  }
 },
 "nbformat": 4,
 "nbformat_minor": 5
}
