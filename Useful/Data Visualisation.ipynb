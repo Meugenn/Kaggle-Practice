{
 "cells": [
  {
   "cell_type": "markdown",
   "id": "91e75d12",
   "metadata": {},
   "source": [
    "```\n",
    "import matplotlib.pyplot as plt\n",
    "import matplotlib as mpl\n",
    "import seaborn as sns\n",
    "\n",
    "fig, ax = plt.subplots()\n",
    "\n",
    "print()\n",
    "\n",
    "train_data[\"LogSalePrice\"] = np.log2(train_data[\"SalePrice\"])\n",
    "\n",
    "# p = sns.barplot(\"OverallQual\", \"SalePrice\", data = train_data, ci=False)\n",
    "b = sns.scatterplot(data=train_data, x=\"GrLivArea\", y=\"LogSalePrice\")\n",
    "\n",
    "# ax.plot(train_data.sort_values(\"OverallQual\")[\"OverallQual\"], \n",
    "#         train_data.sort_values(\"OverallQual\")[\"SalePrice\"])\n",
    "```"
   ]
  }
 ],
 "metadata": {
  "kernelspec": {
   "display_name": "Python 3 (ipykernel)",
   "language": "python",
   "name": "python3"
  },
  "language_info": {
   "codemirror_mode": {
    "name": "ipython",
    "version": 3
   },
   "file_extension": ".py",
   "mimetype": "text/x-python",
   "name": "python",
   "nbconvert_exporter": "python",
   "pygments_lexer": "ipython3",
   "version": "3.9.13"
  }
 },
 "nbformat": 4,
 "nbformat_minor": 5
}
