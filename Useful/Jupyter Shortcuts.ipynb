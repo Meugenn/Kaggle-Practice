{
 "cells": [
  {
   "cell_type": "markdown",
   "id": "a8d72217",
   "metadata": {},
   "source": [
    "# Jupyter Shortcuts\n",
    "\n",
    "Jupyter Notebook is a powerful tool for interactive computing and data analysis, and knowing its key hotkeys can significantly enhance your productivity. Here's a list of essential keyboard shortcuts divided into two modes: Command mode (press **`Esc`** to enable) and Edit mode (press **`Enter`** to enable).\n",
    "\n",
    "### **Command Mode (press `Esc` to activate)**\n",
    "\n",
    "- **`Enter`**: Switch to Edit mode\n",
    "- **`Shift + Enter`**: Run the current cell, select below\n",
    "- **`Ctrl + Enter`**: Run the current cell\n",
    "- **`Alt + Enter`**: Run the current cell, insert below\n",
    "- **`Y`**: Change the cell to code mode\n",
    "- **`M`**: Change the cell to markdown mode\n",
    "- **`A`**: Insert a new cell above\n",
    "- **`B`**: Insert a new cell below\n",
    "- **`D, D`** (press **`D`** twice): Delete the selected cell\n",
    "- **`Z`**: Undo cell deletion\n",
    "- **`Shift + M`**: Merge selected cells, or current cell with cell below if only one cell is selected\n",
    "- **`S`**: Save and checkpoint\n",
    "- **`L`**: Toggle line numbers\n",
    "- **`Shift + L`**: Toggle line numbers in all cells (may need to be enabled in the Notebook's settings)\n",
    "- **`Up Arrow`** or **`K`**: Select cell above\n",
    "- **`Down Arrow`** or **`J`**: Select cell below\n",
    "\n",
    "### **Edit Mode (press `Enter` to activate)**\n",
    "\n",
    "- **`Esc`**: Switch to Command mode\n",
    "- **`Ctrl + Enter`**: Run the current cell\n",
    "- **`Shift + Enter`**: Run the current cell, select below\n",
    "- **`Alt + Enter`**: Run the current cell, insert below\n",
    "- **`Ctrl + Shift + -`**: Split the current cell at the cursor\n",
    "- **`Ctrl + S`**: Save and checkpoint\n",
    "- **`Tab`**: Code completion or indent\n",
    "- **`Shift + Tab`**: Tooltip (hold for more help)\n",
    "- **`Ctrl + Z`**: Undo\n",
    "- **`Ctrl + Shift + Z`** or **`Ctrl + Y`**: Redo\n",
    "- **`Ctrl + Home`**: Go to cell start\n",
    "- **`Ctrl + End`**: Go to cell end\n",
    "- **`Ctrl + Left`**: Go one word left\n",
    "- **`Ctrl + Right`**: Go one word right\n",
    "- **`Ctrl + Shift + P`**: Open the command palette\n",
    "\n",
    "These are some of the most commonly used shortcuts in Jupyter Notebook. However, you can always customize these shortcuts or find more shortcuts by going to the \"Help\" > \"Keyboard Shortcuts\" menu in Jupyter Notebook, or by pressing **`Ctrl + Shift + P`** to open the command palette and searching for \"keyboard shortcuts\"."
   ]
  },
  {
   "cell_type": "code",
   "execution_count": null,
   "id": "39dcd105",
   "metadata": {},
   "outputs": [],
   "source": []
  }
 ],
 "metadata": {
  "kernelspec": {
   "display_name": "Python 3 (ipykernel)",
   "language": "python",
   "name": "python3"
  },
  "language_info": {
   "codemirror_mode": {
    "name": "ipython",
    "version": 3
   },
   "file_extension": ".py",
   "mimetype": "text/x-python",
   "name": "python",
   "nbconvert_exporter": "python",
   "pygments_lexer": "ipython3",
   "version": "3.9.13"
  }
 },
 "nbformat": 4,
 "nbformat_minor": 5
}
